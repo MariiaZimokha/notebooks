{
  "cells": [
    {
      "cell_type": "markdown",
      "metadata": {
        "id": "view-in-github",
        "colab_type": "text"
      },
      "source": [
        "<a href=\"https://colab.research.google.com/github/MariiaZimokha/notebooks/blob/main/TF/tf_convertor.ipynb\" target=\"_parent\"><img src=\"https://colab.research.google.com/assets/colab-badge.svg\" alt=\"Open In Colab\"/></a>"
      ]
    },
    {
      "cell_type": "markdown",
      "metadata": {
        "id": "UwUFPcuqLseI"
      },
      "source": [
        "## Connect to drive"
      ]
    },
    {
      "cell_type": "code",
      "execution_count": null,
      "metadata": {
        "colab": {
          "base_uri": "https://localhost:8080/"
        },
        "id": "dGpPFlJFLr51",
        "outputId": "869e2677-7320-4b1d-d9a2-e0cc42796423"
      },
      "outputs": [
        {
          "name": "stdout",
          "output_type": "stream",
          "text": [
            "Mounted at /content/drive\n"
          ]
        }
      ],
      "source": [
        "from google.colab import drive\n",
        "drive.mount('/content/drive')"
      ]
    },
    {
      "cell_type": "markdown",
      "metadata": {
        "id": "lyrWWFfwMA1e"
      },
      "source": [
        "## Download Data"
      ]
    },
    {
      "cell_type": "code",
      "execution_count": null,
      "metadata": {
        "id": "9TJ8ywteMCh5"
      },
      "outputs": [],
      "source": [
        "file_path = \"/content/drive/MyDrive/Studying/image classification.zip\"\n",
        "# file_path = \"/content/drive/MyDrive/image classification.zip\"\n",
        "output_path = \"/tmp/image_classification\"\n",
        "\n",
        "from zipfile import ZipFile\n",
        "\n",
        "with ZipFile(file_path, 'r') as zip_ref:\n",
        "  zip_ref.extractall(output_path)"
      ]
    },
    {
      "cell_type": "markdown",
      "metadata": {
        "id": "bz04pY1kMNsN"
      },
      "source": [
        "## Imports\n"
      ]
    },
    {
      "cell_type": "code",
      "execution_count": null,
      "metadata": {
        "id": "m_fShnQoMP8c"
      },
      "outputs": [],
      "source": [
        "import pandas as pd\n",
        "import numpy as np\n",
        "import tensorflow as tf\n",
        "import matplotlib.pyplot as plt\n",
        "import matplotlib.image as mpimg\n",
        "\n",
        "import os"
      ]
    },
    {
      "cell_type": "markdown",
      "metadata": {
        "id": "AuoEHpqvMXqN"
      },
      "source": [
        "## Utils"
      ]
    },
    {
      "cell_type": "code",
      "execution_count": null,
      "metadata": {
        "colab": {
          "background_save": true
        },
        "id": "rok61bgMMYwG"
      },
      "outputs": [],
      "source": [
        "# image size 150x150\n",
        "def plot_img(dir):\n",
        "  row_num = 4\n",
        "  col_num = 4\n",
        "\n",
        "  pics_names = os.listdir(dir)\n",
        "\n",
        "  fig = plt.gcf()\n",
        "  fig.set_size_inches(15, 20)\n",
        "\n",
        "  pic_index = 8\n",
        "  next_pic = [os.path.join(dir, fname) \n",
        "                  for fname in pics_names[pic_index-8:pic_index]]\n",
        "\n",
        "\n",
        "  for i,img_path in enumerate(next_pic):\n",
        "    sp = plt.subplot(row_num, col_num, i + 1)\n",
        "    sp.axis('Off') # Don't show axes (or gridlines)\n",
        "\n",
        "    img = mpimg.imread(img_path)\n",
        "    plt.imshow(img)\n",
        "\n",
        "  plt.show()"
      ]
    },
    {
      "cell_type": "code",
      "execution_count": null,
      "metadata": {
        "colab": {
          "background_save": true
        },
        "id": "8FZ4StJgMfK5"
      },
      "outputs": [],
      "source": [
        "def plot_metrics(metric, val_metrics, epochs, name):\n",
        "  plt.plot(epochs, metric, 'r', label=f'Training {name}')\n",
        "  plt.plot(epochs, val_metrics, 'b', label=f'Validation {name}')\n",
        "  plt.title(f'Training and validation {name}')\n",
        "  plt.legend(loc=0)\n",
        "  plt.figure()\n",
        "  plt.show()"
      ]
    },
    {
      "cell_type": "code",
      "execution_count": null,
      "metadata": {
        "colab": {
          "background_save": true
        },
        "id": "e1QBqPATMiMi"
      },
      "outputs": [],
      "source": [
        "train_dir = \"/tmp/image_classification/seg_train/seg_train\"\n",
        "test_dir = \"/tmp/image_classification/seg_test/seg_test\"\n"
      ]
    },
    {
      "cell_type": "markdown",
      "metadata": {
        "id": "Cqx5SqOaOqd2"
      },
      "source": [
        "## Data preprocessing"
      ]
    },
    {
      "cell_type": "code",
      "execution_count": null,
      "metadata": {
        "colab": {
          "background_save": true,
          "base_uri": "https://localhost:8080/"
        },
        "id": "oUlGd_rTOuKK",
        "outputId": "6cece606-18e3-42d3-c8af-0d49822418b6"
      },
      "outputs": [
        {
          "name": "stdout",
          "output_type": "stream",
          "text": [
            "Found 14034 images belonging to 6 classes.\n",
            "Found 3000 images belonging to 6 classes.\n"
          ]
        }
      ],
      "source": [
        "train_datagen = tf.keras.preprocessing.image.ImageDataGenerator(\n",
        "    rescale=1./255,\n",
        "    rotation_range=40,\n",
        "    width_shift_range=0.2,\n",
        "    height_shift_range=0.2,\n",
        "    shear_range=0.2,\n",
        "    zoom_range=0.2,\n",
        "    horizontal_flip=True,\n",
        "    fill_mode='nearest')\n",
        "test_datagen = tf.keras.preprocessing.image.ImageDataGenerator(rescale=1./255)\n",
        "\n",
        "train_generator = train_datagen.flow_from_directory(\n",
        "    train_dir,\n",
        "    target_size=(150, 150),\n",
        "    color_mode=\"rgb\",\n",
        "    class_mode=\"categorical\"\n",
        ")\n",
        "\n",
        "test_generator = test_datagen.flow_from_directory(\n",
        "    test_dir,\n",
        "    target_size=(150, 150),\n",
        "    color_mode=\"rgb\",\n",
        "    class_mode=\"categorical\"\n",
        ")"
      ]
    },
    {
      "cell_type": "code",
      "execution_count": null,
      "metadata": {
        "colab": {
          "base_uri": "https://localhost:8080/"
        },
        "id": "Pu6_X3EvPJzT",
        "outputId": "f6344cad-d256-47e1-ba25-761dc26cb261"
      },
      "outputs": [
        {
          "output_type": "stream",
          "name": "stdout",
          "text": [
            "{'buildings': 0, 'forest': 1, 'glacier': 2, 'mountain': 3, 'sea': 4, 'street': 5}\n"
          ]
        }
      ],
      "source": [
        "class_names = train_generator.class_indices\n",
        "print(class_names)"
      ]
    },
    {
      "cell_type": "markdown",
      "metadata": {
        "id": "7h_yOUKUPNVf"
      },
      "source": [
        "## Model"
      ]
    },
    {
      "cell_type": "code",
      "execution_count": null,
      "metadata": {
        "colab": {
          "base_uri": "https://localhost:8080/"
        },
        "id": "LxZsyyijPP1k",
        "outputId": "a7337e3a-d4a1-4889-a7a1-88c497daa4c7"
      },
      "outputs": [
        {
          "name": "stdout",
          "output_type": "stream",
          "text": [
            "Epoch 1/45\n",
            "439/439 - 114s - loss: 1.1951 - accuracy: 0.5154 - val_loss: 0.9067 - val_accuracy: 0.6557 - 114s/epoch - 261ms/step\n",
            "Epoch 2/45\n",
            "439/439 - 100s - loss: 0.9952 - accuracy: 0.6107 - val_loss: 0.7660 - val_accuracy: 0.7163 - 100s/epoch - 228ms/step\n",
            "Epoch 3/45\n",
            "439/439 - 100s - loss: 0.8788 - accuracy: 0.6674 - val_loss: 0.6548 - val_accuracy: 0.7637 - 100s/epoch - 228ms/step\n",
            "Epoch 4/45\n",
            "439/439 - 101s - loss: 0.8140 - accuracy: 0.6968 - val_loss: 0.7577 - val_accuracy: 0.7160 - 101s/epoch - 231ms/step\n",
            "Epoch 5/45\n",
            "439/439 - 107s - loss: 0.7602 - accuracy: 0.7207 - val_loss: 0.5927 - val_accuracy: 0.7957 - 107s/epoch - 244ms/step\n",
            "Epoch 6/45\n",
            "439/439 - 100s - loss: 0.7239 - accuracy: 0.7349 - val_loss: 0.5513 - val_accuracy: 0.7973 - 100s/epoch - 229ms/step\n",
            "Epoch 7/45\n",
            "439/439 - 101s - loss: 0.6956 - accuracy: 0.7466 - val_loss: 0.5537 - val_accuracy: 0.8093 - 101s/epoch - 231ms/step\n",
            "Epoch 8/45\n",
            "439/439 - 101s - loss: 0.6569 - accuracy: 0.7603 - val_loss: 0.5282 - val_accuracy: 0.8077 - 101s/epoch - 230ms/step\n",
            "Epoch 9/45\n",
            "439/439 - 102s - loss: 0.6453 - accuracy: 0.7629 - val_loss: 0.5063 - val_accuracy: 0.8227 - 102s/epoch - 231ms/step\n",
            "Epoch 10/45\n",
            "439/439 - 101s - loss: 0.6384 - accuracy: 0.7687 - val_loss: 0.5233 - val_accuracy: 0.8200 - 101s/epoch - 230ms/step\n",
            "Epoch 11/45\n",
            "439/439 - 100s - loss: 0.6118 - accuracy: 0.7790 - val_loss: 0.4674 - val_accuracy: 0.8367 - 100s/epoch - 228ms/step\n",
            "Epoch 12/45\n",
            "439/439 - 100s - loss: 0.5966 - accuracy: 0.7815 - val_loss: 0.5593 - val_accuracy: 0.8037 - 100s/epoch - 227ms/step\n",
            "Epoch 13/45\n",
            "439/439 - 99s - loss: 0.5655 - accuracy: 0.7978 - val_loss: 0.4365 - val_accuracy: 0.8433 - 99s/epoch - 225ms/step\n",
            "Epoch 14/45\n",
            "439/439 - 99s - loss: 0.5689 - accuracy: 0.7929 - val_loss: 0.4839 - val_accuracy: 0.8277 - 99s/epoch - 226ms/step\n",
            "Epoch 15/45\n",
            "439/439 - 101s - loss: 0.5569 - accuracy: 0.7998 - val_loss: 0.4414 - val_accuracy: 0.8407 - 101s/epoch - 230ms/step\n",
            "Epoch 16/45\n",
            "439/439 - 99s - loss: 0.5490 - accuracy: 0.8040 - val_loss: 0.4690 - val_accuracy: 0.8350 - 99s/epoch - 226ms/step\n",
            "Epoch 17/45\n",
            "439/439 - 99s - loss: 0.5369 - accuracy: 0.8070 - val_loss: 0.4722 - val_accuracy: 0.8360 - 99s/epoch - 226ms/step\n",
            "Epoch 18/45\n",
            "439/439 - 101s - loss: 0.5297 - accuracy: 0.8126 - val_loss: 0.4262 - val_accuracy: 0.8587 - 101s/epoch - 229ms/step\n",
            "Epoch 19/45\n",
            "439/439 - 100s - loss: 0.5213 - accuracy: 0.8110 - val_loss: 0.5190 - val_accuracy: 0.8203 - 100s/epoch - 227ms/step\n",
            "Epoch 20/45\n",
            "439/439 - 100s - loss: 0.5101 - accuracy: 0.8127 - val_loss: 0.4153 - val_accuracy: 0.8503 - 100s/epoch - 227ms/step\n",
            "Epoch 21/45\n",
            "439/439 - 100s - loss: 0.5028 - accuracy: 0.8203 - val_loss: 0.4329 - val_accuracy: 0.8400 - 100s/epoch - 228ms/step\n",
            "Epoch 22/45\n",
            "439/439 - 101s - loss: 0.4991 - accuracy: 0.8222 - val_loss: 0.4230 - val_accuracy: 0.8543 - 101s/epoch - 229ms/step\n",
            "Epoch 23/45\n",
            "439/439 - 109s - loss: 0.4861 - accuracy: 0.8231 - val_loss: 0.4955 - val_accuracy: 0.8237 - 109s/epoch - 247ms/step\n",
            "Epoch 24/45\n",
            "439/439 - 105s - loss: 0.4996 - accuracy: 0.8179 - val_loss: 0.4139 - val_accuracy: 0.8580 - 105s/epoch - 240ms/step\n",
            "Epoch 25/45\n",
            "439/439 - 102s - loss: 0.4885 - accuracy: 0.8231 - val_loss: 0.4426 - val_accuracy: 0.8407 - 102s/epoch - 232ms/step\n",
            "Epoch 26/45\n",
            "439/439 - 101s - loss: 0.4788 - accuracy: 0.8273 - val_loss: 0.4041 - val_accuracy: 0.8563 - 101s/epoch - 229ms/step\n",
            "Epoch 27/45\n",
            "439/439 - 100s - loss: 0.4727 - accuracy: 0.8312 - val_loss: 0.4247 - val_accuracy: 0.8437 - 100s/epoch - 227ms/step\n",
            "Epoch 28/45\n",
            "439/439 - 102s - loss: 0.4748 - accuracy: 0.8278 - val_loss: 0.3926 - val_accuracy: 0.8563 - 102s/epoch - 231ms/step\n",
            "Epoch 29/45\n",
            "439/439 - 100s - loss: 0.4707 - accuracy: 0.8284 - val_loss: 0.4434 - val_accuracy: 0.8447 - 100s/epoch - 229ms/step\n",
            "Epoch 30/45\n",
            "439/439 - 100s - loss: 0.4626 - accuracy: 0.8308 - val_loss: 0.4068 - val_accuracy: 0.8540 - 100s/epoch - 228ms/step\n",
            "Epoch 31/45\n",
            "439/439 - 100s - loss: 0.4574 - accuracy: 0.8345 - val_loss: 0.3954 - val_accuracy: 0.8573 - 100s/epoch - 227ms/step\n",
            "Epoch 32/45\n",
            "439/439 - 100s - loss: 0.4497 - accuracy: 0.8373 - val_loss: 0.4826 - val_accuracy: 0.8337 - 100s/epoch - 227ms/step\n",
            "Epoch 33/45\n",
            "439/439 - 99s - loss: 0.4394 - accuracy: 0.8417 - val_loss: 0.4643 - val_accuracy: 0.8447 - 99s/epoch - 226ms/step\n",
            "Epoch 34/45\n",
            "439/439 - 99s - loss: 0.4395 - accuracy: 0.8404 - val_loss: 0.4131 - val_accuracy: 0.8490 - 99s/epoch - 226ms/step\n",
            "Epoch 35/45\n",
            "439/439 - 99s - loss: 0.4413 - accuracy: 0.8422 - val_loss: 0.3795 - val_accuracy: 0.8723 - 99s/epoch - 226ms/step\n",
            "Epoch 36/45\n",
            "439/439 - 99s - loss: 0.4343 - accuracy: 0.8426 - val_loss: 0.3583 - val_accuracy: 0.8727 - 99s/epoch - 227ms/step\n",
            "Epoch 37/45\n",
            "439/439 - 99s - loss: 0.4384 - accuracy: 0.8392 - val_loss: 0.3950 - val_accuracy: 0.8657 - 99s/epoch - 225ms/step\n",
            "Epoch 38/45\n",
            "439/439 - 96s - loss: 0.4314 - accuracy: 0.8459 - val_loss: 0.4143 - val_accuracy: 0.8597 - 96s/epoch - 219ms/step\n",
            "Epoch 39/45\n",
            "439/439 - 99s - loss: 0.4352 - accuracy: 0.8421 - val_loss: 0.3831 - val_accuracy: 0.8620 - 99s/epoch - 226ms/step\n",
            "Epoch 40/45\n",
            "439/439 - 101s - loss: 0.4265 - accuracy: 0.8429 - val_loss: 0.4031 - val_accuracy: 0.8587 - 101s/epoch - 229ms/step\n",
            "Epoch 41/45\n",
            "439/439 - 99s - loss: 0.4331 - accuracy: 0.8440 - val_loss: 0.5170 - val_accuracy: 0.8163 - 99s/epoch - 226ms/step\n",
            "Epoch 42/45\n",
            "439/439 - 97s - loss: 0.4257 - accuracy: 0.8444 - val_loss: 0.4595 - val_accuracy: 0.8417 - 97s/epoch - 222ms/step\n",
            "Epoch 43/45\n",
            "439/439 - 98s - loss: 0.4371 - accuracy: 0.8444 - val_loss: 0.3924 - val_accuracy: 0.8677 - 98s/epoch - 222ms/step\n",
            "Epoch 44/45\n",
            "439/439 - 98s - loss: 0.4125 - accuracy: 0.8497 - val_loss: 0.4290 - val_accuracy: 0.8600 - 98s/epoch - 223ms/step\n",
            "Epoch 45/45\n",
            "439/439 - 96s - loss: 0.4113 - accuracy: 0.8526 - val_loss: 0.4096 - val_accuracy: 0.8597 - 96s/epoch - 220ms/step\n"
          ]
        }
      ],
      "source": [
        "model = tf.keras.models.Sequential([\n",
        "  tf.keras.layers.Conv2D(64, (3,3), activation=\"relu\", input_shape=(150, 150, 3)),\n",
        "  tf.keras.layers.MaxPooling2D(2,2),\n",
        "  tf.keras.layers.Conv2D(64, (3,3), activation=\"relu\"),\n",
        "  tf.keras.layers.MaxPooling2D(2,2),\n",
        "  tf.keras.layers.Conv2D(128, (3,3), activation=\"relu\"),\n",
        "  tf.keras.layers.MaxPooling2D(2,2),\n",
        "  tf.keras.layers.Conv2D(128, (3,3), activation=\"relu\"),\n",
        "  tf.keras.layers.MaxPooling2D(2,2),\n",
        "  tf.keras.layers.Flatten(),\n",
        "  tf.keras.layers.Dropout(0.5),\n",
        "  tf.keras.layers.Dense(512, activation=\"relu\"),\n",
        "  tf.keras.layers.Dense(6, activation=\"softmax\")\n",
        "])\n",
        "\n",
        "model.compile(loss=\"categorical_crossentropy\", optimizer=\"adam\", metrics=[\"accuracy\"])\n",
        "\n",
        "history = model.fit(\n",
        "    train_generator,\n",
        "    epochs=45,\n",
        "    validation_data=test_generator,\n",
        "    verbose=2\n",
        ")"
      ]
    },
    {
      "cell_type": "code",
      "execution_count": null,
      "metadata": {
        "colab": {
          "base_uri": "https://localhost:8080/",
          "height": 580
        },
        "id": "wUMswyoXrYrZ",
        "outputId": "3e745ea3-6b58-4b47-c9fb-39b6d9338ef9"
      },
      "outputs": [
        {
          "data": {
            "image/png": "[encoded data removed]",
            "text/plain": [
              "<Figure size 432x288 with 1 Axes>"
            ]
          },
          "metadata": {},
          "output_type": "display_data"
        },
        {
          "data": {
            "text/plain": [
              "<Figure size 432x288 with 0 Axes>"
            ]
          },
          "metadata": {},
          "output_type": "display_data"
        },
        {
          "data": {
            "image/png": "[encoded data removed]",
            "text/plain": [
              "<Figure size 432x288 with 1 Axes>"
            ]
          },
          "metadata": {},
          "output_type": "display_data"
        },
        {
          "data": {
            "text/plain": [
              "<Figure size 432x288 with 0 Axes>"
            ]
          },
          "metadata": {},
          "output_type": "display_data"
        }
      ],
      "source": [
        "acc = history.history['accuracy']\n",
        "val_acc = history.history['val_accuracy']\n",
        "loss = history.history['loss']\n",
        "val_loss = history.history['val_loss']\n",
        "\n",
        "epochs = range(len(acc))\n",
        "plot_metrics(acc, val_acc, epochs, \"accuracy\")\n",
        "plot_metrics(loss, val_loss, epochs, \"loss\")"
      ]
    },
    {
      "cell_type": "markdown",
      "metadata": {
        "id": "2E7dzpiqkFnP"
      },
      "source": [
        "######Test prediction"
      ]
    },
    {
      "cell_type": "code",
      "execution_count": null,
      "metadata": {
        "colab": {
          "base_uri": "https://localhost:8080/"
        },
        "id": "RlE9KsNTkHSZ",
        "outputId": "5180d8d7-4cf4-4c6f-e3b0-675d1148ec7e"
      },
      "outputs": [
        {
          "name": "stdout",
          "output_type": "stream",
          "text": [
            "{'buildings': 0, 'forest': 1, 'glacier': 2, 'mountain': 3, 'sea': 4, 'street': 5}\n"
          ]
        }
      ],
      "source": [
        "class_names = train_generator.class_indices\n",
        "print(class_names)"
      ]
    },
    {
      "cell_type": "code",
      "execution_count": null,
      "metadata": {
        "colab": {
          "base_uri": "https://localhost:8080/",
          "height": 167
        },
        "id": "TiSM6CH0kO1-",
        "outputId": "30ac60bf-1939-4349-a0df-963d3ac80029"
      },
      "outputs": [
        {
          "output_type": "execute_result",
          "data": {
            "image/png": "[encoded data removed]",
            "text/plain": [
              "<PIL.JpegImagePlugin.JpegImageFile image mode=RGB size=150x150 at 0x7F1FD341AB90>"
            ]
          },
          "metadata": {},
          "execution_count": 31
        }
      ],
      "source": [
        "pred_path = \"/tmp/image_classification/seg_pred/seg_pred\"\n",
        "import PIL\n",
        "\n",
        "all_pred_data = os.listdir(\"/tmp/image_classification/seg_pred/seg_pred\")\n",
        "\n",
        "PIL.Image.open(f\"{pred_path}/{all_pred_data[45]}\")"
      ]
    },
    {
      "cell_type": "code",
      "execution_count": null,
      "metadata": {
        "id": "H1g5u6ibNKBp"
      },
      "outputs": [],
      "source": [
        "import PIL\n",
        "import numpy as np\n",
        "\n",
        "\n",
        "def image_processing(image_path):\n",
        "  image = PIL.Image.open(image_path)\n",
        "  image = tf.keras.preprocessing.image.img_to_array(image)\n",
        "  image = tf.image.resize_with_pad(image, target_height=150, target_width=150)\n",
        "  image = np.expand_dims(image, axis=0)\n",
        "  # image = tf.image.resize(image, (150, 150))\n",
        "  print(image.shape)\n",
        "  return image"
      ]
    },
    {
      "cell_type": "code",
      "execution_count": null,
      "metadata": {
        "colab": {
          "base_uri": "https://localhost:8080/"
        },
        "id": "vF0skzH4kP9P",
        "outputId": "155137c3-d626-42b2-ff1e-5fdc6b9d5e3d"
      },
      "outputs": [
        {
          "name": "stdout",
          "output_type": "stream",
          "text": [
            "(1, 150, 150, 3)\n",
            "predictions  [[1. 0. 0. 0. 0. 0.]]\n",
            "score  tf.Tensor([0.35218745 0.12956253 0.12956253 0.12956253 0.12956253 0.12956253], shape=(6,), dtype=float32)\n",
            "class_names  {'buildings': 0, 'forest': 1, 'glacier': 2, 'mountain': 3, 'sea': 4, 'street': 5}\n"
          ]
        }
      ],
      "source": [
        "import numpy as np\n",
        "\n",
        "from tensorflow.keras.preprocessing import image\n",
        "\n",
        "image_path = f\"{pred_path}/{all_pred_data[45]}\"\n",
        "\n",
        "image = image_processing(image_path)\n",
        "\n",
        "# image = tf.image.rgb_to_grayscale(image)\n",
        "# image = tf.image.grayscale_to_rgb(image)\n",
        "# image = tf.reshape(image_path, (1, 150, 150, 3))\n",
        "\n",
        "#  tensorflow transferl learning\n",
        "# img_array = tf.keras.utils.img_to_array(image)\n",
        "# img = image.load_img(image_path, target_size=(150, 150))\n",
        "# x = image.img_to_array(img)\n",
        "# x = np.expand_dims(x, axis=0)\n",
        "# x = preprocess_input(x)\n",
        "\n",
        "# preds = model.predict(x)\n",
        "# # decode the results into a list of tuples (class, description, probability)\n",
        "# # (one such list for each sample in the batch)\n",
        "# print('Predicted:', preds)\n",
        "\n",
        "predictions = model.predict(image)\n",
        "print('predictions ', predictions)\n",
        "score = tf.nn.softmax(predictions[0])\n",
        "# print('predictions ', np.argmax(preds))\n",
        "\n",
        "\n",
        "print('score ', score)\n",
        "print('class_names ', class_names)\n",
        "# print(\n",
        "#     \"This image most likely belongs to {} with a {:.2f} percent confidence.\"\n",
        "#     .format(class_names[np.argmax(score)], 100 * np.max(score))\n",
        "# )"
      ]
    },
    {
      "cell_type": "markdown",
      "metadata": {
        "id": "0-QfYTearx_j"
      },
      "source": [
        "####Save model"
      ]
    },
    {
      "cell_type": "code",
      "execution_count": null,
      "metadata": {
        "id": "1Cpt7zwvr2-M"
      },
      "outputs": [],
      "source": [
        "model.save(\"/content/drive/MyDrive/Studying/cnn.h5\")"
      ]
    },
    {
      "cell_type": "markdown",
      "metadata": {
        "id": "iRNj-2-W0fwD"
      },
      "source": [
        "## Load model"
      ]
    },
    {
      "cell_type": "code",
      "execution_count": null,
      "metadata": {
        "id": "FsWuY_MySToR"
      },
      "outputs": [],
      "source": [
        "model = tf.keras.models.load_model('/content/drive/MyDrive/Studying/cnn.h5')"
      ]
    },
    {
      "cell_type": "code",
      "execution_count": null,
      "metadata": {
        "colab": {
          "base_uri": "https://localhost:8080/"
        },
        "id": "PDQHakSC0wph",
        "outputId": "e9f66b71-420e-417a-d4e7-c162b57581f7"
      },
      "outputs": [
        {
          "output_type": "execute_result",
          "data": {
            "text/plain": [
              "<bound method Model.predict of <keras.engine.sequential.Sequential object at 0x7f1fde5ae390>>"
            ]
          },
          "metadata": {},
          "execution_count": 11
        }
      ],
      "source": [
        "model.predict"
      ]
    },
    {
      "cell_type": "markdown",
      "source": [
        "## TfLite"
      ],
      "metadata": {
        "id": "jvoORLisEIy5"
      }
    },
    {
      "cell_type": "markdown",
      "source": [
        "### Convert and save"
      ],
      "metadata": {
        "id": "MtJn7a-rGOJq"
      }
    },
    {
      "cell_type": "code",
      "source": [
        "converter = tf.lite.TFLiteConverter.from_keras_model(model)\n",
        "tflite_model = converter.convert()\n",
        "with open('/content/drive/MyDrive/Studying/cnn.tflite', 'wb') as f:\n",
        "  f.write(tflite_model)"
      ],
      "metadata": {
        "colab": {
          "base_uri": "https://localhost:8080/"
        },
        "id": "wvpd2u-aENpt",
        "outputId": "68d1daca-5bb1-44b4-cb06-1d613ae4a139"
      },
      "execution_count": null,
      "outputs": [
        {
          "output_type": "stream",
          "name": "stdout",
          "text": [
            "INFO:tensorflow:Assets written to: /tmp/tmp7zdc244e/assets\n"
          ]
        },
        {
          "output_type": "stream",
          "name": "stderr",
          "text": [
            "WARNING:absl:Buffer deduplication procedure will be skipped when flatbuffer library is not properly loaded\n"
          ]
        }
      ]
    },
    {
      "cell_type": "markdown",
      "source": [
        "### Load model"
      ],
      "metadata": {
        "id": "3ug_GoWHGRzf"
      }
    },
    {
      "cell_type": "code",
      "source": [
        "import numpy as np\n",
        "\n",
        "class Model():\n",
        "  def __init__(self, model) -> None:\n",
        "      self.model = model\n",
        "      self.model.allocate_tensors()\n",
        "      self.input_details = model.get_input_details()\n",
        "      self.output_details = model.get_output_details()\n",
        "\n",
        "  def tflite_predict(self, input_data):\n",
        "    self.model.set_tensor(self.input_details[0]['index'], input_data)\n",
        "\n",
        "    self.model.invoke()\n",
        "\n",
        "    # The function `get_tensor()` returns a copy of the tensor data.\n",
        "    # Use `tensor()` in order to get a pointer to the tensor.\n",
        "    output_data = self.model.get_tensor(self.output_details[0]['index'])\n",
        "    return output_data\n"
      ],
      "metadata": {
        "id": "YJ2oF_0qHjwT"
      },
      "execution_count": null,
      "outputs": []
    },
    {
      "cell_type": "code",
      "source": [
        "# https://www.tensorflow.org/lite/guide/inference#load_and_run_a_model_in_python\n",
        "\n",
        "# Load the TFLite model and allocate tensors.\n",
        "model_tflite = tf.lite.Interpreter(model_path=\"/content/drive/MyDrive/Studying/cnn.tflite\")\n",
        "# interpreter.allocate_tensors()\n",
        "\n",
        "model = Model(model_tflite)\n"
      ],
      "metadata": {
        "id": "xPDvblt-GRbB"
      },
      "execution_count": null,
      "outputs": []
    },
    {
      "cell_type": "markdown",
      "source": [
        "### Test prediction"
      ],
      "metadata": {
        "id": "-CASuE5uIN4B"
      }
    },
    {
      "cell_type": "code",
      "source": [
        "pred_path = \"/tmp/image_classification/seg_pred/seg_pred\"\n",
        "import PIL\n",
        "\n",
        "all_pred_data = os.listdir(\"/tmp/image_classification/seg_pred/seg_pred\")\n",
        "\n",
        "PIL.Image.open(f\"{pred_path}/{all_pred_data[2]}\")"
      ],
      "metadata": {
        "colab": {
          "base_uri": "https://localhost:8080/",
          "height": 167
        },
        "id": "RLG_EHXPIRPO",
        "outputId": "534e7746-f58f-4299-8093-7a4af75a55a0"
      },
      "execution_count": null,
      "outputs": [
        {
          "output_type": "execute_result",
          "data": {
            "image/png": "[encoded data removed]",
            "text/plain": [
              "<PIL.JpegImagePlugin.JpegImageFile image mode=RGB size=150x150 at 0x7F1FD0B13810>"
            ]
          },
          "metadata": {},
          "execution_count": 42
        }
      ]
    },
    {
      "cell_type": "code",
      "source": [
        "import numpy as np\n",
        "\n",
        "from tensorflow.keras.preprocessing import image\n",
        "\n",
        "image_path = f\"{pred_path}/{all_pred_data[2]}\"\n",
        "\n",
        "image = image_processing(image_path)\n",
        "\n",
        "result = model.tflite_predict(image)\n",
        "print(result)\n",
        "score = tf.nn.softmax(result[0])\n",
        "# print('predictions ', np.argmax(preds))\n",
        "\n",
        "\n",
        "print('score ', score)\n",
        "print('class_names ', class_names)"
      ],
      "metadata": {
        "colab": {
          "base_uri": "https://localhost:8080/"
        },
        "id": "CJG3OQx1IVLr",
        "outputId": "54acbd9e-b899-41da-a0eb-3fedfb736556"
      },
      "execution_count": null,
      "outputs": [
        {
          "output_type": "stream",
          "name": "stdout",
          "text": [
            "(1, 150, 150, 3)\n",
            "[[0. 0. 0. 0. 0. 1.]]\n",
            "score  tf.Tensor([0.12956251 0.12956251 0.12956251 0.12956251 0.12956251 0.35218742], shape=(6,), dtype=float32)\n",
            "class_names  {'buildings': 0, 'forest': 1, 'glacier': 2, 'mountain': 3, 'sea': 4, 'street': 5}\n"
          ]
        }
      ]
    }
  ],
  "metadata": {
    "colab": {
      "collapsed_sections": [],
      "name": "tf-convertor.ipynb",
      "toc_visible": true,
      "provenance": [],
      "authorship_tag": "ABX9TyPNO6WEcTydrYsrPj1oSXDU",
      "include_colab_link": true
    },
    "kernelspec": {
      "display_name": "Python 3",
      "name": "python3"
    },
    "language_info": {
      "name": "python"
    }
  },
  "nbformat": 4,
  "nbformat_minor": 0
}